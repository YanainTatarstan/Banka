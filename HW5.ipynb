{
 "cells": [
  {
   "cell_type": "code",
   "execution_count": 1,
   "id": "29ef58a2",
   "metadata": {},
   "outputs": [],
   "source": [
    "import random\n",
    "import json\n",
    "\n"
   ]
  },
  {
   "cell_type": "code",
   "execution_count": 2,
   "id": "84222083",
   "metadata": {},
   "outputs": [
    {
     "name": "stdout",
     "output_type": "stream",
     "text": [
      "Задание 1 (д/н)? д\n",
      "\tОшибка открытия файла!\n",
      "\n"
     ]
    }
   ],
   "source": [
    "text_dir = \"./texts/\"\n",
    "\n",
    "answer = input(\"Задание 1 (д/н)? \")\n",
    "if answer == 'д':\n",
    "    try:\n",
    "        with open(text_dir + \"text_for_t1.txt\", 'w') as new_file:\n",
    "            print(\"\\tВводите строки для записи в файл (выход - пустая строка):\\n\")\n",
    "            while True:\n",
    "                new_line = input()\n",
    "                if new_line == \"\":\n",
    "                    break\n",
    "                new_file.write(new_line + \"\\n\")\n",
    "\n",
    "        with open(text_dir + \"text_for_t1.txt\") as read_file:\n",
    "            while True:\n",
    "                read_line = read_file.readline()\n",
    "                if read_line == \"\":\n",
    "                    break\n",
    "                print(read_line, end='')\n",
    "    except IOError:\n",
    "        print(\"\\tОшибка открытия файла!\")\n",
    "    print()"
   ]
  },
  {
   "cell_type": "markdown",
   "id": "319fe55f",
   "metadata": {},
   "source": [
    "1. Создать программный файл в текстовом формате, записать в него построчно данные, вводимые пользователем. Об окончании ввода данных будет свидетельствовать пустая строка."
   ]
  },
  {
   "cell_type": "code",
   "execution_count": null,
   "id": "e5f2d870",
   "metadata": {},
   "outputs": [],
   "source": []
  },
  {
   "cell_type": "markdown",
   "id": "aeb16be7",
   "metadata": {},
   "source": [
    "2. Создать текстовый файл (не программно), сохранить в нём несколько строк, выполнить подсчёт строк и слов в каждой строке."
   ]
  },
  {
   "cell_type": "code",
   "execution_count": null,
   "id": "7df69f21",
   "metadata": {},
   "outputs": [],
   "source": []
  },
  {
   "cell_type": "markdown",
   "id": "fd123a01",
   "metadata": {},
   "source": [
    "3. Создать текстовый файл (не программно). Построчно записать фамилии сотрудников и величину их окладов (не менее 10 строк). Определить, кто из сотрудников имеет оклад менее 20 тысяч, вывести фамилии этих сотрудников. Выполнить подсчёт средней величины дохода сотрудников.\n",
    "Пример файла: Иванов 23543.12  Петров 13749.32"
   ]
  },
  {
   "cell_type": "code",
   "execution_count": null,
   "id": "17950318",
   "metadata": {},
   "outputs": [],
   "source": []
  },
  {
   "cell_type": "markdown",
   "id": "cb30382a",
   "metadata": {},
   "source": [
    "4. Создать (не программно) текстовый файл со следующим содержимым:\n",
    "One — 1\n",
    "Two — 2\n",
    "Three — 3\n",
    "Four — 4\n",
    "Напишите программу, открывающую файл на чтение и считывающую построчно данные. При этом английские числительные должны заменяться на русские. Новый блок строк должен записываться в новый текстовый файл."
   ]
  },
  {
   "cell_type": "code",
   "execution_count": null,
   "id": "681144a8",
   "metadata": {},
   "outputs": [],
   "source": []
  },
  {
   "cell_type": "markdown",
   "id": "e2d67a4c",
   "metadata": {},
   "source": [
    "5. Создать (программно) текстовый файл, записать в него программно набор чисел, разделённых пробелами. Программа должна подсчитывать сумму чисел в файле и выводить её на экран."
   ]
  },
  {
   "cell_type": "code",
   "execution_count": null,
   "id": "e0adead5",
   "metadata": {},
   "outputs": [],
   "source": []
  },
  {
   "cell_type": "markdown",
   "id": "1a8f5c4c",
   "metadata": {},
   "source": [
    "6. Сформировать (не программно) текстовый файл. В нём каждая строка должна описывать учебный предмет и наличие лекционных, практических и лабораторных занятий по предмету. Сюда должно входить и количество занятий. Необязательно, чтобы для каждого предмета были все типы занятий.\n",
    "Сформировать словарь, содержащий название предмета и общее количество занятий по нему. Вывести его на экран.\n",
    "Примеры строк файла: Информатика: 100(л) 50(пр) 20(лаб).\n",
    "Физика: 30(л) — 10(лаб)\n",
    "Физкультура: — 30(пр) —\n",
    "Пример словаря: {“Информатика”: 170, “Физика”: 40, “Физкультура”: 30}\n"
   ]
  },
  {
   "cell_type": "code",
   "execution_count": null,
   "id": "2e8e8ea2",
   "metadata": {},
   "outputs": [],
   "source": []
  },
  {
   "cell_type": "code",
   "execution_count": null,
   "id": "f9cd89c3",
   "metadata": {},
   "outputs": [],
   "source": []
  },
  {
   "cell_type": "markdown",
   "id": "0f5cac4c",
   "metadata": {},
   "source": [
    "7. Создать вручную и заполнить несколькими строками текстовый файл, в котором каждая строка будет содержать данные о фирме: название, форма собственности, выручка, издержки.\n",
    "Пример строки файла: firm_1 ООО 10000 5000.\n",
    "\n",
    "Необходимо построчно прочитать файл, вычислить прибыль каждой компании, а также среднюю прибыль. Если фирма получила убытки, в расчёт средней прибыли её не включать.\n",
    "Далее реализовать список. Он должен содержать словарь с фирмами и их прибылями, а также словарь со средней прибылью. Если фирма получила убытки, также добавить её в словарь (со значением убытков).\n",
    "Пример списка: [{“firm_1”: 5000, “firm_2”: 3000, “firm_3”: 1000}, {“average_profit”: 2000}].\n",
    "\n",
    "Итоговый список сохранить в виде json-объекта в соответствующий файл.\n",
    "Пример json-объекта:\n",
    "[{\"firm_1\": 5000, \"firm_2\": 3000, \"firm_3\": 1000}, {\"average_profit\": 2000}]\n",
    "Подсказка: использовать менеджер контекста."
   ]
  },
  {
   "cell_type": "code",
   "execution_count": null,
   "id": "6e314994",
   "metadata": {},
   "outputs": [],
   "source": []
  }
 ],
 "metadata": {
  "kernelspec": {
   "display_name": "Python 3 (ipykernel)",
   "language": "python",
   "name": "python3"
  },
  "language_info": {
   "codemirror_mode": {
    "name": "ipython",
    "version": 3
   },
   "file_extension": ".py",
   "mimetype": "text/x-python",
   "name": "python",
   "nbconvert_exporter": "python",
   "pygments_lexer": "ipython3",
   "version": "3.9.7"
  }
 },
 "nbformat": 4,
 "nbformat_minor": 5
}
